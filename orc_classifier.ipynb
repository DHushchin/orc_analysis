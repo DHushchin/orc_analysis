{
 "cells": [
  {
   "cell_type": "code",
   "execution_count": 18,
   "metadata": {},
   "outputs": [
    {
     "data": {
      "text/html": [
       "<div>\n",
       "<style scoped>\n",
       "    .dataframe tbody tr th:only-of-type {\n",
       "        vertical-align: middle;\n",
       "    }\n",
       "\n",
       "    .dataframe tbody tr th {\n",
       "        vertical-align: top;\n",
       "    }\n",
       "\n",
       "    .dataframe thead th {\n",
       "        text-align: right;\n",
       "    }\n",
       "</style>\n",
       "<table border=\"1\" class=\"dataframe\">\n",
       "  <thead>\n",
       "    <tr style=\"text-align: right;\">\n",
       "      <th></th>\n",
       "      <th>age</th>\n",
       "      <th>nationality</th>\n",
       "      <th>family</th>\n",
       "      <th>edu_lvl_cl</th>\n",
       "      <th>mil_rank_cl</th>\n",
       "      <th>region</th>\n",
       "    </tr>\n",
       "    <tr>\n",
       "      <th>orc_id</th>\n",
       "      <th></th>\n",
       "      <th></th>\n",
       "      <th></th>\n",
       "      <th></th>\n",
       "      <th></th>\n",
       "      <th></th>\n",
       "    </tr>\n",
       "  </thead>\n",
       "  <tbody>\n",
       "    <tr>\n",
       "      <th>2</th>\n",
       "      <td>33</td>\n",
       "      <td>русский</td>\n",
       "      <td>True</td>\n",
       "      <td>среднее</td>\n",
       "      <td>Старший Сержант</td>\n",
       "      <td>Кировская область</td>\n",
       "    </tr>\n",
       "    <tr>\n",
       "      <th>3</th>\n",
       "      <td>28</td>\n",
       "      <td>бурят</td>\n",
       "      <td>True</td>\n",
       "      <td>среднее</td>\n",
       "      <td>Младший Сержант</td>\n",
       "      <td>Сахалинская область</td>\n",
       "    </tr>\n",
       "    <tr>\n",
       "      <th>4</th>\n",
       "      <td>26</td>\n",
       "      <td>русский</td>\n",
       "      <td>True</td>\n",
       "      <td>среднее</td>\n",
       "      <td>Матрос</td>\n",
       "      <td>Приморский край</td>\n",
       "    </tr>\n",
       "    <tr>\n",
       "      <th>5</th>\n",
       "      <td>19</td>\n",
       "      <td>русский</td>\n",
       "      <td>True</td>\n",
       "      <td>среднее</td>\n",
       "      <td>Матрос</td>\n",
       "      <td>Приморский край</td>\n",
       "    </tr>\n",
       "    <tr>\n",
       "      <th>8</th>\n",
       "      <td>36</td>\n",
       "      <td>русский</td>\n",
       "      <td>True</td>\n",
       "      <td>среднее</td>\n",
       "      <td>Прапорщик</td>\n",
       "      <td>Томская область</td>\n",
       "    </tr>\n",
       "    <tr>\n",
       "      <th>...</th>\n",
       "      <td>...</td>\n",
       "      <td>...</td>\n",
       "      <td>...</td>\n",
       "      <td>...</td>\n",
       "      <td>...</td>\n",
       "      <td>...</td>\n",
       "    </tr>\n",
       "    <tr>\n",
       "      <th>110825</th>\n",
       "      <td>29</td>\n",
       "      <td>русский</td>\n",
       "      <td>False</td>\n",
       "      <td>среднее</td>\n",
       "      <td>Рядовой</td>\n",
       "      <td>Республика Адыгея</td>\n",
       "    </tr>\n",
       "    <tr>\n",
       "      <th>110826</th>\n",
       "      <td>37</td>\n",
       "      <td>русский</td>\n",
       "      <td>False</td>\n",
       "      <td>среднее</td>\n",
       "      <td>Старший Офицер</td>\n",
       "      <td>Республика Адыгея</td>\n",
       "    </tr>\n",
       "    <tr>\n",
       "      <th>110828</th>\n",
       "      <td>34</td>\n",
       "      <td>русский</td>\n",
       "      <td>True</td>\n",
       "      <td>среднее</td>\n",
       "      <td>Прапорщик</td>\n",
       "      <td>Республика Адыгея</td>\n",
       "    </tr>\n",
       "    <tr>\n",
       "      <th>110829</th>\n",
       "      <td>21</td>\n",
       "      <td>русский</td>\n",
       "      <td>True</td>\n",
       "      <td>среднее</td>\n",
       "      <td>Ефрейтор</td>\n",
       "      <td>Вологодская область</td>\n",
       "    </tr>\n",
       "    <tr>\n",
       "      <th>110830</th>\n",
       "      <td>22</td>\n",
       "      <td>русский</td>\n",
       "      <td>True</td>\n",
       "      <td>среднее</td>\n",
       "      <td>Ефрейтор</td>\n",
       "      <td>Республика Адыгея</td>\n",
       "    </tr>\n",
       "  </tbody>\n",
       "</table>\n",
       "<p>67443 rows × 6 columns</p>\n",
       "</div>"
      ],
      "text/plain": [
       "        age nationality  family edu_lvl_cl      mil_rank_cl  \\\n",
       "orc_id                                                        \n",
       "2        33     русский    True    среднее  Старший Сержант   \n",
       "3        28      бурят     True    среднее  Младший Сержант   \n",
       "4        26     русский    True    среднее           Матрос   \n",
       "5        19     русский    True    среднее           Матрос   \n",
       "8        36     русский    True    среднее        Прапорщик   \n",
       "...     ...         ...     ...        ...              ...   \n",
       "110825   29     русский   False    среднее          Рядовой   \n",
       "110826   37     русский   False    среднее   Старший Офицер   \n",
       "110828   34     русский    True    среднее        Прапорщик   \n",
       "110829   21     русский    True    среднее         Ефрейтор   \n",
       "110830   22     русский    True    среднее         Ефрейтор   \n",
       "\n",
       "                     region  \n",
       "orc_id                       \n",
       "2         Кировская область  \n",
       "3       Сахалинская область  \n",
       "4           Приморский край  \n",
       "5           Приморский край  \n",
       "8           Томская область  \n",
       "...                     ...  \n",
       "110825    Республика Адыгея  \n",
       "110826    Республика Адыгея  \n",
       "110828    Республика Адыгея  \n",
       "110829  Вологодская область  \n",
       "110830    Республика Адыгея  \n",
       "\n",
       "[67443 rows x 6 columns]"
      ]
     },
     "execution_count": 18,
     "metadata": {},
     "output_type": "execute_result"
    }
   ],
   "source": [
    "import pandas as pd\n",
    "import numpy as np\n",
    "\n",
    "orcs = pd.read_csv('orcs_cleaned.csv', index_col=0, encoding='utf-8')\n",
    "orcs"
   ]
  },
  {
   "cell_type": "code",
   "execution_count": 19,
   "metadata": {},
   "outputs": [
    {
     "data": {
      "text/plain": [
       "<AxesSubplot:>"
      ]
     },
     "execution_count": 19,
     "metadata": {},
     "output_type": "execute_result"
    },
    {
     "data": {
      "image/png": "[encoded data removed]",
      "text/plain": [
       "<Figure size 432x288 with 1 Axes>"
      ]
     },
     "metadata": {
      "needs_background": "light"
     },
     "output_type": "display_data"
    }
   ],
   "source": [
    "orcs.age.hist()"
   ]
  },
  {
   "cell_type": "code",
   "execution_count": 20,
   "metadata": {},
   "outputs": [
    {
     "data": {
      "text/plain": [
       "array([[-0.12054455,  0.58742396, -0.00544569, ..., -0.19138372,\n",
       "        -0.06969354, -0.03872734],\n",
       "       [-0.70623746,  0.58742396, -0.00544569, ..., -0.19138372,\n",
       "        -0.06969354, -0.03872734],\n",
       "       [-0.94051463,  0.58742396, -0.00544569, ..., -0.19138372,\n",
       "        -0.06969354, -0.03872734],\n",
       "       ...,\n",
       "       [-0.00340597,  0.58742396, -0.00544569, ..., -0.19138372,\n",
       "        -0.06969354, -0.03872734],\n",
       "       [-1.52620754,  0.58742396, -0.00544569, ..., -0.19138372,\n",
       "        -0.06969354, -0.03872734],\n",
       "       [-1.40906896,  0.58742396, -0.00544569, ..., -0.19138372,\n",
       "        -0.06969354, -0.03872734]])"
      ]
     },
     "execution_count": 20,
     "metadata": {},
     "output_type": "execute_result"
    }
   ],
   "source": [
    "from sklearn.preprocessing import StandardScaler\n",
    "\n",
    "\n",
    "targets = orcs.mil_rank_cl\n",
    "features = orcs.drop(['mil_rank_cl'], axis=1)\n",
    "features = pd.get_dummies(features)\n",
    "features\n",
    "\n",
    "features = StandardScaler().fit_transform(features)\n",
    "features"
   ]
  },
  {
   "cell_type": "code",
   "execution_count": 28,
   "metadata": {},
   "outputs": [
    {
     "data": {
      "text/plain": [
       "array([25, 14, 12, ..., 17,  3,  3])"
      ]
     },
     "execution_count": 28,
     "metadata": {},
     "output_type": "execute_result"
    }
   ],
   "source": [
    "from sklearn.preprocessing import LabelEncoder\n",
    "\n",
    "label_encoder = LabelEncoder()\n",
    "targets = label_encoder.fit_transform(targets)\n",
    "targets"
   ]
  },
  {
   "cell_type": "code",
   "execution_count": 30,
   "metadata": {},
   "outputs": [],
   "source": [
    "from sklearn.model_selection import train_test_split\n",
    "\n",
    "x_train, x_test, y_train, y_test = train_test_split(features, targets, random_state=50)"
   ]
  }
 ],
 "metadata": {
  "kernelspec": {
   "display_name": "Python 3.9.7 ('base')",
   "language": "python",
   "name": "python3"
  },
  "language_info": {
   "codemirror_mode": {
    "name": "ipython",
    "version": 3
   },
   "file_extension": ".py",
   "mimetype": "text/x-python",
   "name": "python",
   "nbconvert_exporter": "python",
   "pygments_lexer": "ipython3",
   "version": "3.9.7"
  },
  "orig_nbformat": 4,
  "vscode": {
   "interpreter": {
    "hash": "d04ced9d2f3d780184266d6c04c38b10d0bc5dc91923fa3055e4cade559214a7"
   }
  }
 },
 "nbformat": 4,
 "nbformat_minor": 2
}
